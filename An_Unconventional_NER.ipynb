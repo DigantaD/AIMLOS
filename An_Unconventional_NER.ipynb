{
  "nbformat": 4,
  "nbformat_minor": 0,
  "metadata": {
    "colab": {
      "name": "An Unconventional NER.ipynb",
      "version": "0.3.2",
      "provenance": [],
      "toc_visible": true,
      "include_colab_link": true
    },
    "kernelspec": {
      "name": "python3",
      "display_name": "Python 3"
    }
  },
  "cells": [
    {
      "cell_type": "markdown",
      "metadata": {
        "id": "view-in-github",
        "colab_type": "text"
      },
      "source": [
        "[View in Colaboratory](https://colab.research.google.com/github/DigantaD/AIMLOS/blob/master/An_Unconventional_NER.ipynb)"
      ]
    },
    {
      "metadata": {
        "id": "RwihyF9eZSzi",
        "colab_type": "code",
        "colab": {}
      },
      "cell_type": "code",
      "source": [
        "import numpy as np\n",
        "import warnings\n",
        "import random\n",
        "import re\n",
        "import os.path\n",
        "from os import path\n",
        "import pickle\n",
        "import math\n",
        "import json\n",
        "\n",
        "from sklearn.preprocessing import LabelEncoder\n",
        "from sklearn.preprocessing import OneHotEncoder"
      ],
      "execution_count": 0,
      "outputs": []
    },
    {
      "metadata": {
        "id": "s6V3kn77SdSb",
        "colab_type": "code",
        "colab": {}
      },
      "cell_type": "code",
      "source": [
        "train_data = 'text.json'\n",
        "with open(train_data) as file:\n",
        "  data = json.load(file)"
      ],
      "execution_count": 0,
      "outputs": []
    },
    {
      "metadata": {
        "id": "6O7w8tUBSoir",
        "colab_type": "code",
        "colab": {}
      },
      "cell_type": "code",
      "source": [
        "train_data = data['sentence_data']['examples']"
      ],
      "execution_count": 0,
      "outputs": []
    },
    {
      "metadata": {
        "id": "_1DMC-KIS1cx",
        "colab_type": "code",
        "colab": {
          "base_uri": "https://localhost:8080/",
          "height": 72
        },
        "outputId": "92a11b75-ab84-434f-e13d-9c295ae0c127"
      },
      "cell_type": "code",
      "source": [
        "data_list = []\n",
        "seq_present = 0\n",
        "for element in train_data:\n",
        "  list1 = dict()\n",
        "  query = element['text'].lower()\n",
        "  length = len(element['slots'])\n",
        "  seq_present += length\n",
        "  for e in element['slots']:\n",
        "    chunk = query[e['start']:e['end']]\n",
        "    list1[chunk] = e['slot']\n",
        "    list1[chunk] = e['slot']\n",
        "  if len(element['slots']) == 0:\n",
        "    list1[query] = ''\n",
        "  data_list.append(list1)\n",
        "print(data_list)\n",
        "print(seq_present)"
      ],
      "execution_count": 4,
      "outputs": [
        {
          "output_type": "stream",
          "text": [
            "[{'adam': 'name'}, {'joey': 'name', 'sedan': 'car_type'}, {'germany': 'country', 'bmw': 'company'}, {'that place': 'place', 'australia': 'country'}, {'my friend': 'person', 'michael': 'name', 'canada': 'country'}, {'porsche': 'company', 'sedan': 'car_type'}, {'lexus': 'company', 'hatchback': 'car_type', '$80000': 'amount'}, {'have to pay': 'payment', '$500': 'amount', 'renew': 'renewal', 'car policy': 'document_type'}]\n",
            "19\n"
          ],
          "name": "stdout"
        }
      ]
    },
    {
      "metadata": {
        "id": "lnv_X-swT9ZQ",
        "colab_type": "code",
        "colab": {
          "base_uri": "https://localhost:8080/",
          "height": 52
        },
        "outputId": "f224b21f-f729-4aa6-e5a2-2b440501d250"
      },
      "cell_type": "code",
      "source": [
        "entities = []\n",
        "for element in data_list:\n",
        "  for key, value in element.items():\n",
        "    if value not in entities and value != '':\n",
        "      entities.append(value)\n",
        "entities.sort()\n",
        "print(entities)\n",
        "print(len(entities))"
      ],
      "execution_count": 5,
      "outputs": [
        {
          "output_type": "stream",
          "text": [
            "['amount', 'car_type', 'company', 'country', 'document_type', 'name', 'payment', 'person', 'place', 'renewal']\n",
            "10\n"
          ],
          "name": "stdout"
        }
      ]
    },
    {
      "metadata": {
        "id": "vnYYJwHJUGX5",
        "colab_type": "code",
        "colab": {
          "base_uri": "https://localhost:8080/",
          "height": 34
        },
        "outputId": "ed513e5a-9c3f-46e6-8c48-098c4213c311"
      },
      "cell_type": "code",
      "source": [
        "ents = np.asarray(entities)\n",
        "label_encoder = LabelEncoder()\n",
        "integer_encoded = label_encoder.fit_transform(ents)\n",
        "onehot_encoder = OneHotEncoder(sparse = False)\n",
        "integer_encoded = integer_encoded.reshape(len(integer_encoded), 1)\n",
        "onehot_entities = onehot_encoder.fit_transform(integer_encoded)\n",
        "print(onehot_entities.shape)"
      ],
      "execution_count": 6,
      "outputs": [
        {
          "output_type": "stream",
          "text": [
            "(10, 10)\n"
          ],
          "name": "stdout"
        }
      ]
    },
    {
      "metadata": {
        "id": "OHF-0jD4UKSa",
        "colab_type": "code",
        "colab": {
          "base_uri": "https://localhost:8080/",
          "height": 194
        },
        "outputId": "7fec8a81-1e23-46fe-fb02-56959c055dea"
      },
      "cell_type": "code",
      "source": [
        "print(onehot_entities)"
      ],
      "execution_count": 7,
      "outputs": [
        {
          "output_type": "stream",
          "text": [
            "[[1. 0. 0. 0. 0. 0. 0. 0. 0. 0.]\n",
            " [0. 1. 0. 0. 0. 0. 0. 0. 0. 0.]\n",
            " [0. 0. 1. 0. 0. 0. 0. 0. 0. 0.]\n",
            " [0. 0. 0. 1. 0. 0. 0. 0. 0. 0.]\n",
            " [0. 0. 0. 0. 1. 0. 0. 0. 0. 0.]\n",
            " [0. 0. 0. 0. 0. 1. 0. 0. 0. 0.]\n",
            " [0. 0. 0. 0. 0. 0. 1. 0. 0. 0.]\n",
            " [0. 0. 0. 0. 0. 0. 0. 1. 0. 0.]\n",
            " [0. 0. 0. 0. 0. 0. 0. 0. 1. 0.]\n",
            " [0. 0. 0. 0. 0. 0. 0. 0. 0. 1.]]\n"
          ],
          "name": "stdout"
        }
      ]
    },
    {
      "metadata": {
        "id": "Nu4n3wtiUNOc",
        "colab_type": "code",
        "colab": {}
      },
      "cell_type": "code",
      "source": [
        "embeddings_index = dict()\n",
        "f = open('glove.6B.50d.txt')\n",
        "for line in f:\n",
        "  values = line.split()\n",
        "  word = values[0]\n",
        "  coefs = np.asarray((values[1:]), np.float32)\n",
        "  embeddings_index[word] = coefs\n",
        "f.close()"
      ],
      "execution_count": 0,
      "outputs": []
    },
    {
      "metadata": {
        "id": "5CTMtkoVUQbI",
        "colab_type": "code",
        "colab": {}
      },
      "cell_type": "code",
      "source": [
        "from keras.preprocessing.text import Tokenizer"
      ],
      "execution_count": 0,
      "outputs": []
    },
    {
      "metadata": {
        "id": "8ZmFgp-oUUIW",
        "colab_type": "code",
        "colab": {
          "base_uri": "https://localhost:8080/",
          "height": 54
        },
        "outputId": "9f446cc8-0a78-4f7c-d6da-bf617b82eba4"
      },
      "cell_type": "code",
      "source": [
        "queries = []\n",
        "for element in train_data:\n",
        "  queries.append(element['text'].lower())\n",
        "print(queries)"
      ],
      "execution_count": 71,
      "outputs": [
        {
          "output_type": "stream",
          "text": [
            "['my name is adam', 'joey has a sedan', 'germany is the home to the bmw', 'that place looks from australia', 'my friend, michael, is from canada', 'boy, that porsche sedan was sexy', 'my lexus hatchback cost me $80000', 'i have to pay $500 to renew my car policy']\n"
          ],
          "name": "stdout"
        }
      ]
    },
    {
      "metadata": {
        "id": "45ffdFiHWwVD",
        "colab_type": "code",
        "colab": {
          "base_uri": "https://localhost:8080/",
          "height": 34
        },
        "outputId": "9231787d-da19-4e13-8f1d-3401523e5d3b"
      },
      "cell_type": "code",
      "source": [
        "print(len(queries))"
      ],
      "execution_count": 72,
      "outputs": [
        {
          "output_type": "stream",
          "text": [
            "8\n"
          ],
          "name": "stdout"
        }
      ]
    },
    {
      "metadata": {
        "id": "zUPWxxtsUXgK",
        "colab_type": "code",
        "colab": {}
      },
      "cell_type": "code",
      "source": [
        "t = Tokenizer(filters='!\"#%&()*+,-.:;<=>?@[\\]^`{|}~ ')\n",
        "t.fit_on_texts(queries)"
      ],
      "execution_count": 0,
      "outputs": []
    },
    {
      "metadata": {
        "id": "x26naU1_Ud7H",
        "colab_type": "code",
        "colab": {
          "base_uri": "https://localhost:8080/",
          "height": 54
        },
        "outputId": "f0a2eb52-e8ee-4985-82d4-71e4463b770d"
      },
      "cell_type": "code",
      "source": [
        "print(t.word_index)"
      ],
      "execution_count": 74,
      "outputs": [
        {
          "output_type": "stream",
          "text": [
            "{'my': 1, 'is': 2, 'to': 3, 'sedan': 4, 'the': 5, 'that': 6, 'from': 7, 'name': 8, 'adam': 9, 'joey': 10, 'has': 11, 'a': 12, 'germany': 13, 'home': 14, 'bmw': 15, 'place': 16, 'looks': 17, 'australia': 18, 'friend': 19, 'michael': 20, 'canada': 21, 'boy': 22, 'porsche': 23, 'was': 24, 'sexy': 25, 'lexus': 26, 'hatchback': 27, 'cost': 28, 'me': 29, '$80000': 30, 'i': 31, 'have': 32, 'pay': 33, '$500': 34, 'renew': 35, 'car': 36, 'policy': 37}\n"
          ],
          "name": "stdout"
        }
      ]
    },
    {
      "metadata": {
        "id": "bpNghmeYUgj6",
        "colab_type": "code",
        "colab": {
          "base_uri": "https://localhost:8080/",
          "height": 52
        },
        "outputId": "6db74ae8-65c7-46d5-de19-e163a249a51e"
      },
      "cell_type": "code",
      "source": [
        "unk_words = []\n",
        "for word, i in t.word_index.items():\n",
        "  embedding_vector = embeddings_index.get(word)\n",
        "  if embedding_vector is None:\n",
        "    unk_words.append(word)\n",
        "print(unk_words)\n",
        "print(len(unk_words))"
      ],
      "execution_count": 75,
      "outputs": [
        {
          "output_type": "stream",
          "text": [
            "['porsche', 'lexus', 'hatchback', '$80000', '$500']\n",
            "5\n"
          ],
          "name": "stdout"
        }
      ]
    },
    {
      "metadata": {
        "id": "e4ICkZSHUkND",
        "colab_type": "code",
        "colab": {}
      },
      "cell_type": "code",
      "source": [
        "vectors_list = []\n",
        "for key, value in embeddings_index.items():\n",
        "  vectors_list.append(value)"
      ],
      "execution_count": 0,
      "outputs": []
    },
    {
      "metadata": {
        "id": "bGZnzxIlU1_Z",
        "colab_type": "code",
        "colab": {}
      },
      "cell_type": "code",
      "source": [
        "vec1 = random.choice(vectors_list)\n",
        "vec2 = random.choice(vectors_list)\n",
        "unk_vec_for_word = (vec1+vec2)/2\n",
        "vec1 = random.choice(vectors_list)\n",
        "vec2 = random.choice(vectors_list)\n",
        "unk_vec_for_amt = (vec1+vec2)/2"
      ],
      "execution_count": 0,
      "outputs": []
    },
    {
      "metadata": {
        "id": "xpw9vPseU-qp",
        "colab_type": "code",
        "colab": {
          "base_uri": "https://localhost:8080/",
          "height": 407
        },
        "outputId": "8a492139-8241-491d-9f04-fdf884d3c9ff"
      },
      "cell_type": "code",
      "source": [
        "print(unk_vec_for_word)\n",
        "print(unk_vec_for_amt)"
      ],
      "execution_count": 78,
      "outputs": [
        {
          "output_type": "stream",
          "text": [
            "[-4.5194501e-01  7.9995000e-01 -2.0574950e-01 -1.5642501e-01\n",
            " -1.8500090e-03  2.3838300e-01 -8.5426497e-01 -1.3631499e-01\n",
            " -2.3295999e-01 -4.3684989e-03 -4.0013000e-01  1.9265500e-01\n",
            " -1.6394988e-02 -7.7428997e-01  5.1502502e-01 -1.4045501e-01\n",
            "  1.1516596e-01  2.9964998e-02 -3.4797502e-01 -8.6462498e-01\n",
            " -4.6662498e-01 -2.4211502e-01  5.5962503e-01 -6.3867497e-01\n",
            " -3.1372449e-01 -2.5013000e-01 -2.8203499e-01  5.3333497e-01\n",
            "  3.7050000e-01 -8.0403996e-01  6.9684500e-01 -5.1800013e-03\n",
            " -1.8918000e-01  3.2656500e-01  3.0230400e-01 -8.1804998e-02\n",
            "  9.1792502e-02 -2.2070195e-01  2.3339799e-01 -2.0835550e-01\n",
            " -6.0840003e-02  7.3000789e-04 -6.3412499e-01 -3.2438445e-01\n",
            "  7.0880002e-01 -1.9609000e-01 -8.0717996e-02 -8.5014498e-01\n",
            " -8.7860000e-01  4.3355018e-02]\n",
            "[-0.148455    1.28745     0.53170997  1.089295    0.489015    0.30116248\n",
            "  0.645435    0.41838998 -0.84297    -0.4064979  -0.008109    0.194085\n",
            " -0.337665    0.15369     0.90692997 -0.30155498 -0.44323498 -0.526705\n",
            "  0.2661955  -0.09361999 -0.39316002 -0.189388    0.226075    0.73342\n",
            "  0.88208    -0.48038     0.06720501 -0.713615   -0.333375   -0.58699\n",
            "  1.0604401   0.290605   -0.088965    0.03719001 -0.2737145  -0.528055\n",
            " -0.09215     0.58127403  0.282695   -0.4578695   0.57798547  0.13577999\n",
            "  1.06848    -0.72771     0.24884501  0.37544602  0.483635   -0.91073\n",
            "  0.597855    0.458465  ]\n"
          ],
          "name": "stdout"
        }
      ]
    },
    {
      "metadata": {
        "id": "OMPflMzsVH-w",
        "colab_type": "code",
        "colab": {}
      },
      "cell_type": "code",
      "source": [
        "final_data = []\n",
        "for i in range(len(queries)):\n",
        "  data_dict = dict()\n",
        "  query = []\n",
        "  query.append(queries[i])\n",
        "  tw = Tokenizer(filters='!\"#%&()*+,-.:;<=>?@[\\]^`{|}~ ')\n",
        "  tw.fit_on_texts(query)\n",
        "  wordlist = []\n",
        "  for word, j in tw.word_index.items():\n",
        "    wordlist.append(word)\n",
        "  ents = data_list[i]\n",
        "  data_dict['query'] = queries[i]\n",
        "  sequences = []\n",
        "  for word in wordlist:\n",
        "    index = wordlist.index(word)\n",
        "    seq = ''\n",
        "    for w in wordlist[index:]:\n",
        "      seq = seq + w\n",
        "      sequences.append(seq)\n",
        "      seq = seq + ' '\n",
        "  data_dict['sequences'] = sequences\n",
        "  final_data.append(data_dict)"
      ],
      "execution_count": 0,
      "outputs": []
    },
    {
      "metadata": {
        "id": "2wWtQgMBVNfg",
        "colab_type": "code",
        "colab": {
          "base_uri": "https://localhost:8080/",
          "height": 54
        },
        "outputId": "4288cf8e-4452-4698-f5e1-6bb309d4fa73"
      },
      "cell_type": "code",
      "source": [
        "print(final_data)"
      ],
      "execution_count": 80,
      "outputs": [
        {
          "output_type": "stream",
          "text": [
            "[{'query': 'my name is adam', 'sequences': ['my', 'my name', 'my name is', 'my name is adam', 'name', 'name is', 'name is adam', 'is', 'is adam', 'adam']}, {'query': 'joey has a sedan', 'sequences': ['joey', 'joey has', 'joey has a', 'joey has a sedan', 'has', 'has a', 'has a sedan', 'a', 'a sedan', 'sedan']}, {'query': 'germany is the home to the bmw', 'sequences': ['the', 'the germany', 'the germany is', 'the germany is home', 'the germany is home to', 'the germany is home to bmw', 'germany', 'germany is', 'germany is home', 'germany is home to', 'germany is home to bmw', 'is', 'is home', 'is home to', 'is home to bmw', 'home', 'home to', 'home to bmw', 'to', 'to bmw', 'bmw']}, {'query': 'that place looks from australia', 'sequences': ['that', 'that place', 'that place looks', 'that place looks from', 'that place looks from australia', 'place', 'place looks', 'place looks from', 'place looks from australia', 'looks', 'looks from', 'looks from australia', 'from', 'from australia', 'australia']}, {'query': 'my friend, michael, is from canada', 'sequences': ['my', 'my friend', 'my friend michael', 'my friend michael is', 'my friend michael is from', 'my friend michael is from canada', 'friend', 'friend michael', 'friend michael is', 'friend michael is from', 'friend michael is from canada', 'michael', 'michael is', 'michael is from', 'michael is from canada', 'is', 'is from', 'is from canada', 'from', 'from canada', 'canada']}, {'query': 'boy, that porsche sedan was sexy', 'sequences': ['boy', 'boy that', 'boy that porsche', 'boy that porsche sedan', 'boy that porsche sedan was', 'boy that porsche sedan was sexy', 'that', 'that porsche', 'that porsche sedan', 'that porsche sedan was', 'that porsche sedan was sexy', 'porsche', 'porsche sedan', 'porsche sedan was', 'porsche sedan was sexy', 'sedan', 'sedan was', 'sedan was sexy', 'was', 'was sexy', 'sexy']}, {'query': 'my lexus hatchback cost me $80000', 'sequences': ['my', 'my lexus', 'my lexus hatchback', 'my lexus hatchback cost', 'my lexus hatchback cost me', 'my lexus hatchback cost me $80000', 'lexus', 'lexus hatchback', 'lexus hatchback cost', 'lexus hatchback cost me', 'lexus hatchback cost me $80000', 'hatchback', 'hatchback cost', 'hatchback cost me', 'hatchback cost me $80000', 'cost', 'cost me', 'cost me $80000', 'me', 'me $80000', '$80000']}, {'query': 'i have to pay $500 to renew my car policy', 'sequences': ['to', 'to i', 'to i have', 'to i have pay', 'to i have pay $500', 'to i have pay $500 renew', 'to i have pay $500 renew my', 'to i have pay $500 renew my car', 'to i have pay $500 renew my car policy', 'i', 'i have', 'i have pay', 'i have pay $500', 'i have pay $500 renew', 'i have pay $500 renew my', 'i have pay $500 renew my car', 'i have pay $500 renew my car policy', 'have', 'have pay', 'have pay $500', 'have pay $500 renew', 'have pay $500 renew my', 'have pay $500 renew my car', 'have pay $500 renew my car policy', 'pay', 'pay $500', 'pay $500 renew', 'pay $500 renew my', 'pay $500 renew my car', 'pay $500 renew my car policy', '$500', '$500 renew', '$500 renew my', '$500 renew my car', '$500 renew my car policy', 'renew', 'renew my', 'renew my car', 'renew my car policy', 'my', 'my car', 'my car policy', 'car', 'car policy', 'policy']}]\n"
          ],
          "name": "stdout"
        }
      ]
    },
    {
      "metadata": {
        "id": "eD19LC61VRDW",
        "colab_type": "code",
        "colab": {
          "base_uri": "https://localhost:8080/",
          "height": 34
        },
        "outputId": "5274d56d-5014-4066-e9a2-c38f0f653651"
      },
      "cell_type": "code",
      "source": [
        "number_of_seq = 0\n",
        "for element in final_data:\n",
        "    number_of_seq = number_of_seq + len(element['sequences'])\n",
        "print(number_of_seq)"
      ],
      "execution_count": 81,
      "outputs": [
        {
          "output_type": "stream",
          "text": [
            "164\n"
          ],
          "name": "stdout"
        }
      ]
    },
    {
      "metadata": {
        "id": "QSjOUlJFVUw3",
        "colab_type": "code",
        "colab": {}
      },
      "cell_type": "code",
      "source": [
        "def get_X(i , sequence, chunk):\n",
        "  \n",
        "  chunk_mean = np.zeros((1, 50))\n",
        "  \n",
        "  if chunk is not None:\n",
        "    token = Tokenizer(filters='!\"#%&()*+,-.:;<=>?@[\\]^`{|}~ ')\n",
        "    token.fit_on_texts(chunk)\n",
        "    wordlist = []\n",
        "    for word, j in token.word_index.items():\n",
        "      wordlist.append(word)\n",
        "    embeddings_matrix = np.zeros((len(wordlist), 50))\n",
        "    counter = 0\n",
        "    for word in wordlist:\n",
        "      embedding_vector = embeddings_index.get(word)\n",
        "      if embedding_vector is None:\n",
        "        if word.isdigit():\n",
        "          embedding_vector = unk_vec_for_num\n",
        "        elif word[0] == '$' or word[len(word)-1] == '$':\n",
        "          embedding_vector = unk_vec_for_amt\n",
        "        else:\n",
        "          embedding_vector = unk_vec_for_word\n",
        "      embeddings_matrix[counter] = embedding_vector\n",
        "      counter += 1\n",
        "    \n",
        "    for x in range(len(wordlist)):\n",
        "      if x == 0:\n",
        "        sum_arr = embeddings_matrix[x]\n",
        "      else:\n",
        "        sum_arr = np.sum((sum_arr, embeddings_matrix[x]), axis = 0)\n",
        "    \n",
        "    chunk_mean = sum_arr/len(wordlist)\n",
        "    \n",
        "  seq_mean = np.zeros((1, 50))\n",
        "  \n",
        "  token = Tokenizer(filters='!\"#%&()*+,-.:;<=>?@[\\]^`{|}~ ')\n",
        "  token.fit_on_texts(sequence)\n",
        "  wordlist = []\n",
        "  for word, j in token.word_index.items():\n",
        "    wordlist.append(word)\n",
        "  embeddings_matrix = np.zeros((len(wordlist), 50))\n",
        "  counter = 0\n",
        "  for word in wordlist:\n",
        "    embedding_vector = embeddings_index.get(word)\n",
        "    if embedding_vector is None:\n",
        "      if word.isdigit():\n",
        "        embedding_vector = unk_vec_for_num\n",
        "      elif word[0] == '$' or word[len(word)-1] == '$':\n",
        "        embedding_vector = unk_vec_for_amt\n",
        "      else:\n",
        "        embedding_vector = unk_vec_for_word\n",
        "    embeddings_matrix[counter] = embedding_vector\n",
        "    counter += 1\n",
        "      \n",
        "  for x in range(len(wordlist)):\n",
        "    if x==0:\n",
        "      sum_arr = embeddings_matrix[x]\n",
        "    else:\n",
        "      sum_arr = np.sum((sum_arr, embeddings_matrix[x]), axis = 0)\n",
        "        \n",
        "  seq_mean = sum_arr/len(wordlist)\n",
        "  \n",
        "  mean = (chunk_mean+seq_mean)/2\n",
        "  \n",
        "  mean = mean.reshape(1, 50)\n",
        "  \n",
        "  return mean"
      ],
      "execution_count": 0,
      "outputs": []
    },
    {
      "metadata": {
        "id": "6surhEHKVebm",
        "colab_type": "code",
        "colab": {}
      },
      "cell_type": "code",
      "source": [
        "X_train = np.zeros((number_of_seq*len(entities), 50 + len(entities)))\n",
        "Y_train = []\n",
        "i = 0\n",
        "for j in range(len(queries)):\n",
        "  query = []\n",
        "  query.append(queries[j])\n",
        "  tw = Tokenizer(filters='!\"#%&()*+,-.:;<=>?@[\\]^`{|}~ ')\n",
        "  tw.fit_on_texts(query)\n",
        "  wordlist = []\n",
        "  for word, k in tw.word_index.items():\n",
        "    wordlist.append(word)\n",
        "  seq = final_data[j]\n",
        "  for sequence in seq['sequences']:\n",
        "    wl = sequence.split(' ')\n",
        "    index = wordlist.index(wl[0])\n",
        "    chunk = ''\n",
        "    for word in wordlist[:index]:\n",
        "      chunk = chunk + word\n",
        "      chunk = chunk + ' '\n",
        "    if chunk == '':\n",
        "      index = wordlist.index(wl[len(wl)-1])\n",
        "      chunk = ''\n",
        "      for word in wordlist[index+1:]:\n",
        "        chunk = chunk + word\n",
        "        chunk = chunk + ' '\n",
        "    slots = data_list[j]\n",
        "    slot = ''\n",
        "    for key in slots:\n",
        "      if sequence == key:\n",
        "        slot = slots[sequence]\n",
        "        break\n",
        "    if chunk == '':\n",
        "      chunk = None\n",
        "    mean = get_X(i, sequence, chunk)\n",
        "    \n",
        "    mean = mean.reshape(50, 1)\n",
        "    \n",
        "    rows = onehot_entities.shape[0]\n",
        "    for x in range(rows):\n",
        "      oh = onehot_entities[x].reshape(len(entities), 1)\n",
        "      conc = np.concatenate((mean, oh))\n",
        "      conc = conc.reshape(1, 50 + len(entities))\n",
        "      X_train[i] = conc\n",
        "      inverted = label_encoder.inverse_transform([np.argmax(onehot_entities[x, :])])\n",
        "      warnings.simplefilter('ignore')\n",
        "      inverted = inverted.tolist()\n",
        "      if inverted[0] == slot:\n",
        "        Y_train.append(1.)\n",
        "      else:\n",
        "        Y_train.append(0.)\n",
        "      i += 1  "
      ],
      "execution_count": 0,
      "outputs": []
    },
    {
      "metadata": {
        "id": "0bXtC-BTVjFW",
        "colab_type": "code",
        "colab": {}
      },
      "cell_type": "code",
      "source": [
        "Y_train = np.asarray(Y_train)"
      ],
      "execution_count": 0,
      "outputs": []
    },
    {
      "metadata": {
        "id": "7pV0DT64VnTJ",
        "colab_type": "code",
        "colab": {
          "base_uri": "https://localhost:8080/",
          "height": 52
        },
        "outputId": "9237deb8-edcd-4c3d-fb69-94b8750d5da3"
      },
      "cell_type": "code",
      "source": [
        "print(X_train.shape)\n",
        "print(Y_train.shape)"
      ],
      "execution_count": 85,
      "outputs": [
        {
          "output_type": "stream",
          "text": [
            "(1640, 60)\n",
            "(1640,)\n"
          ],
          "name": "stdout"
        }
      ]
    },
    {
      "metadata": {
        "id": "OR1ZhAqRVpk0",
        "colab_type": "code",
        "colab": {
          "base_uri": "https://localhost:8080/",
          "height": 247
        },
        "outputId": "dcfbe13e-ddc7-487a-8fc2-7924dd92cd11"
      },
      "cell_type": "code",
      "source": [
        "print(X_train)"
      ],
      "execution_count": 86,
      "outputs": [
        {
          "output_type": "stream",
          "text": [
            "[[-0.07214607  1.13712573  0.65815783 ...  0.          0.\n",
            "   0.        ]\n",
            " [-0.07214607  1.13712573  0.65815783 ...  0.          0.\n",
            "   0.        ]\n",
            " [-0.07214607  1.13712573  0.65815783 ...  0.          0.\n",
            "   0.        ]\n",
            " ...\n",
            " [-0.13996437  0.90470696  0.57222086 ...  1.          0.\n",
            "   0.        ]\n",
            " [-0.13996437  0.90470696  0.57222086 ...  0.          1.\n",
            "   0.        ]\n",
            " [-0.13996437  0.90470696  0.57222086 ...  0.          0.\n",
            "   1.        ]]\n"
          ],
          "name": "stdout"
        }
      ]
    },
    {
      "metadata": {
        "id": "btrzU1EEVsqH",
        "colab_type": "code",
        "colab": {
          "base_uri": "https://localhost:8080/",
          "height": 34
        },
        "outputId": "dec40979-f79a-48a8-f5c5-93f848d757d8"
      },
      "cell_type": "code",
      "source": [
        "print(Y_train)"
      ],
      "execution_count": 87,
      "outputs": [
        {
          "output_type": "stream",
          "text": [
            "[0. 0. 0. ... 0. 0. 0.]\n"
          ],
          "name": "stdout"
        }
      ]
    },
    {
      "metadata": {
        "id": "PSQDVPhUVuBg",
        "colab_type": "code",
        "colab": {}
      },
      "cell_type": "code",
      "source": [
        "from sklearn.model_selection import train_test_split"
      ],
      "execution_count": 0,
      "outputs": []
    },
    {
      "metadata": {
        "id": "1pjVTln2WmqA",
        "colab_type": "code",
        "colab": {}
      },
      "cell_type": "code",
      "source": [
        "X_tr, X_te, Y_tr, Y_te = train_test_split(X_train, Y_train, test_size = 0.1, shuffle = True, random_state = 1)"
      ],
      "execution_count": 0,
      "outputs": []
    },
    {
      "metadata": {
        "id": "QjT4WwuCW2Np",
        "colab_type": "code",
        "colab": {
          "base_uri": "https://localhost:8080/",
          "height": 34
        },
        "outputId": "630a8093-6148-4d8a-afae-e928952d5bd8"
      },
      "cell_type": "code",
      "source": [
        "print(X_tr.shape, X_te.shape)"
      ],
      "execution_count": 154,
      "outputs": [
        {
          "output_type": "stream",
          "text": [
            "(1476, 60) (164, 60)\n"
          ],
          "name": "stdout"
        }
      ]
    },
    {
      "metadata": {
        "id": "GVP08vwHTQCD",
        "colab_type": "code",
        "colab": {}
      },
      "cell_type": "code",
      "source": [
        "X_tr = X_tr.reshape(X_tr.shape[0], 1, 50+len(entities))\n",
        "Y_tr = Y_tr.reshape(Y_tr.shape[0], 1, 1)\n",
        "X_te = X_te.reshape(X_te.shape[0], 1, 50+len(entities))\n",
        "Y_te = Y_te.reshape(Y_te.shape[0], 1, 1)"
      ],
      "execution_count": 0,
      "outputs": []
    },
    {
      "metadata": {
        "id": "zjtOmklZb9wj",
        "colab_type": "code",
        "colab": {}
      },
      "cell_type": "code",
      "source": [
        "from keras.models import Sequential\n",
        "from keras.layers import Dense\n",
        "from keras.layers import LSTM\n",
        "from keras.layers import TimeDistributed\n",
        "from keras.layers import Bidirectional\n",
        "from keras.layers import Dropout\n",
        "from keras.callbacks import EarlyStopping"
      ],
      "execution_count": 0,
      "outputs": []
    },
    {
      "metadata": {
        "id": "fgnmr9EQcQEk",
        "colab_type": "code",
        "colab": {}
      },
      "cell_type": "code",
      "source": [
        "model = Sequential()\n",
        "model.add(Bidirectional(LSTM(8, return_sequences = True), input_shape = (1, 50 + len(entities))))\n",
        "model.add(TimeDistributed(Dense(1, activation = 'sigmoid')))"
      ],
      "execution_count": 0,
      "outputs": []
    },
    {
      "metadata": {
        "id": "21J8HVvMck5Q",
        "colab_type": "code",
        "colab": {}
      },
      "cell_type": "code",
      "source": [
        "model.compile(loss = 'binary_crossentropy', optimizer = 'adam', metrics = ['acc'])"
      ],
      "execution_count": 0,
      "outputs": []
    },
    {
      "metadata": {
        "id": "O9jLwHGXcofY",
        "colab_type": "code",
        "colab": {
          "base_uri": "https://localhost:8080/",
          "height": 212
        },
        "outputId": "0e87ef1d-bab7-495d-9f47-69d4726c6da9"
      },
      "cell_type": "code",
      "source": [
        "model.summary()"
      ],
      "execution_count": 159,
      "outputs": [
        {
          "output_type": "stream",
          "text": [
            "_________________________________________________________________\n",
            "Layer (type)                 Output Shape              Param #   \n",
            "=================================================================\n",
            "bidirectional_4 (Bidirection (None, 1, 16)             4416      \n",
            "_________________________________________________________________\n",
            "time_distributed_4 (TimeDist (None, 1, 1)              17        \n",
            "=================================================================\n",
            "Total params: 4,433\n",
            "Trainable params: 4,433\n",
            "Non-trainable params: 0\n",
            "_________________________________________________________________\n"
          ],
          "name": "stdout"
        }
      ]
    },
    {
      "metadata": {
        "id": "HIbmz5bDcr6_",
        "colab_type": "code",
        "colab": {}
      },
      "cell_type": "code",
      "source": [
        "es = EarlyStopping(monitor  ='loss', patience = 1, verbose = 1, mode = 'auto')"
      ],
      "execution_count": 0,
      "outputs": []
    },
    {
      "metadata": {
        "id": "i160NCUacv1b",
        "colab_type": "code",
        "colab": {
          "base_uri": "https://localhost:8080/",
          "height": 390
        },
        "outputId": "02b17772-5f6f-4c20-bcf3-580c12a294d9"
      },
      "cell_type": "code",
      "source": [
        "model.fit(X_tr, Y_tr, batch_size = 4, epochs = 10, verbose = 1, callbacks = [es])"
      ],
      "execution_count": 161,
      "outputs": [
        {
          "output_type": "stream",
          "text": [
            "Epoch 1/10\n",
            "1476/1476 [==============================] - 3s 2ms/step - loss: 0.1418 - acc: 0.9858\n",
            "Epoch 2/10\n",
            "1476/1476 [==============================] - 1s 855us/step - loss: 0.0622 - acc: 0.9892\n",
            "Epoch 3/10\n",
            "1476/1476 [==============================] - 1s 865us/step - loss: 0.0615 - acc: 0.9892\n",
            "Epoch 4/10\n",
            "1476/1476 [==============================] - 1s 922us/step - loss: 0.0609 - acc: 0.9892\n",
            "Epoch 5/10\n",
            "1476/1476 [==============================] - 1s 865us/step - loss: 0.0602 - acc: 0.9892\n",
            "Epoch 6/10\n",
            "1476/1476 [==============================] - 1s 865us/step - loss: 0.0597 - acc: 0.9892\n",
            "Epoch 7/10\n",
            "1476/1476 [==============================] - 1s 867us/step - loss: 0.0591 - acc: 0.9892\n",
            "Epoch 8/10\n",
            "1476/1476 [==============================] - 1s 890us/step - loss: 0.0588 - acc: 0.9892\n",
            "Epoch 9/10\n",
            "1476/1476 [==============================] - 1s 873us/step - loss: 0.0583 - acc: 0.9892\n",
            "Epoch 10/10\n",
            "1476/1476 [==============================] - 1s 925us/step - loss: 0.0579 - acc: 0.9892\n"
          ],
          "name": "stdout"
        },
        {
          "output_type": "execute_result",
          "data": {
            "text/plain": [
              "<keras.callbacks.History at 0x7f020b2e66a0>"
            ]
          },
          "metadata": {
            "tags": []
          },
          "execution_count": 161
        }
      ]
    },
    {
      "metadata": {
        "id": "HW_Fk7xrc12X",
        "colab_type": "code",
        "colab": {
          "base_uri": "https://localhost:8080/",
          "height": 34
        },
        "outputId": "468086aa-5288-46a4-ec06-bc754bf626ff"
      },
      "cell_type": "code",
      "source": [
        "scores = model.evaluate(X_tr, Y_tr, verbose = 1)"
      ],
      "execution_count": 162,
      "outputs": [
        {
          "output_type": "stream",
          "text": [
            "1476/1476 [==============================] - 1s 385us/step\n"
          ],
          "name": "stdout"
        }
      ]
    },
    {
      "metadata": {
        "id": "ibOGayuyc8ra",
        "colab_type": "code",
        "colab": {
          "base_uri": "https://localhost:8080/",
          "height": 34
        },
        "outputId": "189114a9-9ef3-4586-8fca-ea45a35d8a23"
      },
      "cell_type": "code",
      "source": [
        "print(\"Train accuracy %s: %.2f%%\" % (model.metrics_names[1], scores[1] * 100))"
      ],
      "execution_count": 163,
      "outputs": [
        {
          "output_type": "stream",
          "text": [
            "Train accuracy acc: 98.92%\n"
          ],
          "name": "stdout"
        }
      ]
    },
    {
      "metadata": {
        "id": "z-K2lYjDc-0_",
        "colab_type": "code",
        "colab": {
          "base_uri": "https://localhost:8080/",
          "height": 34
        },
        "outputId": "1b465ee7-46c3-49a6-a901-a9e7fbb1cf6b"
      },
      "cell_type": "code",
      "source": [
        "scores = model.evaluate(X_te, Y_te, verbose = 1)"
      ],
      "execution_count": 164,
      "outputs": [
        {
          "output_type": "stream",
          "text": [
            "164/164 [==============================] - 0s 86us/step\n"
          ],
          "name": "stdout"
        }
      ]
    },
    {
      "metadata": {
        "id": "29yOHMiOdDUC",
        "colab_type": "code",
        "colab": {
          "base_uri": "https://localhost:8080/",
          "height": 34
        },
        "outputId": "4e637c89-251d-4b25-d084-fa02d7ab32f6"
      },
      "cell_type": "code",
      "source": [
        "print(\"Test accuracy %s: %.2f%%\" % (model.metrics_names[1], scores[1] * 100))"
      ],
      "execution_count": 165,
      "outputs": [
        {
          "output_type": "stream",
          "text": [
            "Test accuracy acc: 98.78%\n"
          ],
          "name": "stdout"
        }
      ]
    },
    {
      "metadata": {
        "id": "XwqsMReMdHOL",
        "colab_type": "code",
        "colab": {}
      },
      "cell_type": "code",
      "source": [
        "y_pred = model.predict_proba(X_te)"
      ],
      "execution_count": 0,
      "outputs": []
    },
    {
      "metadata": {
        "id": "f178NZPMTlG0",
        "colab_type": "code",
        "colab": {}
      },
      "cell_type": "code",
      "source": [
        "Y_te = Y_te.reshape(Y_te.shape[0], 1)\n",
        "y_pred = y_pred.reshape(y_pred.shape[0], 1)"
      ],
      "execution_count": 0,
      "outputs": []
    },
    {
      "metadata": {
        "id": "cE6v176kdLm2",
        "colab_type": "code",
        "colab": {
          "base_uri": "https://localhost:8080/",
          "height": 2932
        },
        "outputId": "650919cf-dea1-4766-c23e-3bce75d83620"
      },
      "cell_type": "code",
      "source": [
        "print(Y_te)"
      ],
      "execution_count": 168,
      "outputs": [
        {
          "output_type": "stream",
          "text": [
            "[[0.]\n",
            " [0.]\n",
            " [0.]\n",
            " [0.]\n",
            " [0.]\n",
            " [0.]\n",
            " [0.]\n",
            " [0.]\n",
            " [0.]\n",
            " [0.]\n",
            " [0.]\n",
            " [0.]\n",
            " [0.]\n",
            " [0.]\n",
            " [0.]\n",
            " [0.]\n",
            " [0.]\n",
            " [0.]\n",
            " [0.]\n",
            " [0.]\n",
            " [0.]\n",
            " [0.]\n",
            " [0.]\n",
            " [0.]\n",
            " [0.]\n",
            " [0.]\n",
            " [0.]\n",
            " [0.]\n",
            " [0.]\n",
            " [0.]\n",
            " [0.]\n",
            " [0.]\n",
            " [0.]\n",
            " [0.]\n",
            " [0.]\n",
            " [0.]\n",
            " [0.]\n",
            " [0.]\n",
            " [0.]\n",
            " [0.]\n",
            " [0.]\n",
            " [0.]\n",
            " [0.]\n",
            " [0.]\n",
            " [0.]\n",
            " [0.]\n",
            " [0.]\n",
            " [0.]\n",
            " [0.]\n",
            " [0.]\n",
            " [0.]\n",
            " [0.]\n",
            " [0.]\n",
            " [0.]\n",
            " [0.]\n",
            " [0.]\n",
            " [0.]\n",
            " [0.]\n",
            " [0.]\n",
            " [0.]\n",
            " [0.]\n",
            " [0.]\n",
            " [0.]\n",
            " [0.]\n",
            " [0.]\n",
            " [0.]\n",
            " [0.]\n",
            " [0.]\n",
            " [0.]\n",
            " [0.]\n",
            " [0.]\n",
            " [0.]\n",
            " [0.]\n",
            " [0.]\n",
            " [0.]\n",
            " [0.]\n",
            " [0.]\n",
            " [0.]\n",
            " [0.]\n",
            " [0.]\n",
            " [0.]\n",
            " [0.]\n",
            " [0.]\n",
            " [0.]\n",
            " [1.]\n",
            " [1.]\n",
            " [0.]\n",
            " [0.]\n",
            " [0.]\n",
            " [0.]\n",
            " [0.]\n",
            " [0.]\n",
            " [0.]\n",
            " [0.]\n",
            " [0.]\n",
            " [0.]\n",
            " [0.]\n",
            " [0.]\n",
            " [0.]\n",
            " [0.]\n",
            " [0.]\n",
            " [0.]\n",
            " [0.]\n",
            " [0.]\n",
            " [0.]\n",
            " [0.]\n",
            " [0.]\n",
            " [0.]\n",
            " [0.]\n",
            " [0.]\n",
            " [0.]\n",
            " [0.]\n",
            " [0.]\n",
            " [0.]\n",
            " [0.]\n",
            " [0.]\n",
            " [0.]\n",
            " [0.]\n",
            " [0.]\n",
            " [0.]\n",
            " [0.]\n",
            " [0.]\n",
            " [0.]\n",
            " [0.]\n",
            " [0.]\n",
            " [0.]\n",
            " [0.]\n",
            " [0.]\n",
            " [0.]\n",
            " [0.]\n",
            " [0.]\n",
            " [0.]\n",
            " [0.]\n",
            " [0.]\n",
            " [0.]\n",
            " [0.]\n",
            " [0.]\n",
            " [0.]\n",
            " [0.]\n",
            " [0.]\n",
            " [0.]\n",
            " [0.]\n",
            " [0.]\n",
            " [0.]\n",
            " [0.]\n",
            " [0.]\n",
            " [0.]\n",
            " [0.]\n",
            " [0.]\n",
            " [0.]\n",
            " [0.]\n",
            " [0.]\n",
            " [0.]\n",
            " [0.]\n",
            " [0.]\n",
            " [0.]\n",
            " [0.]\n",
            " [0.]\n",
            " [0.]\n",
            " [0.]\n",
            " [0.]\n",
            " [0.]\n",
            " [0.]\n",
            " [0.]]\n"
          ],
          "name": "stdout"
        }
      ]
    },
    {
      "metadata": {
        "id": "Dy9Pcq6ldSyS",
        "colab_type": "code",
        "colab": {
          "base_uri": "https://localhost:8080/",
          "height": 2932
        },
        "outputId": "b40b1198-7019-458c-bd94-6660208e219b"
      },
      "cell_type": "code",
      "source": [
        "y_pred"
      ],
      "execution_count": 169,
      "outputs": [
        {
          "output_type": "execute_result",
          "data": {
            "text/plain": [
              "array([[0.01065764],\n",
              "       [0.00705858],\n",
              "       [0.0034373 ],\n",
              "       [0.00835782],\n",
              "       [0.01184279],\n",
              "       [0.0032508 ],\n",
              "       [0.00919849],\n",
              "       [0.00896665],\n",
              "       [0.00763249],\n",
              "       [0.01207199],\n",
              "       [0.00973587],\n",
              "       [0.011722  ],\n",
              "       [0.00424213],\n",
              "       [0.00861724],\n",
              "       [0.00858412],\n",
              "       [0.00361395],\n",
              "       [0.00338492],\n",
              "       [0.00424125],\n",
              "       [0.00773545],\n",
              "       [0.00649827],\n",
              "       [0.00368109],\n",
              "       [0.00918062],\n",
              "       [0.00953237],\n",
              "       [0.00412304],\n",
              "       [0.00805803],\n",
              "       [0.0070406 ],\n",
              "       [0.00307523],\n",
              "       [0.00897101],\n",
              "       [0.01055859],\n",
              "       [0.00721806],\n",
              "       [0.00465675],\n",
              "       [0.01317654],\n",
              "       [0.00431777],\n",
              "       [0.00329427],\n",
              "       [0.00924229],\n",
              "       [0.01166465],\n",
              "       [0.00724677],\n",
              "       [0.0100687 ],\n",
              "       [0.00972375],\n",
              "       [0.0122925 ],\n",
              "       [0.00395773],\n",
              "       [0.00347822],\n",
              "       [0.00691085],\n",
              "       [0.00812327],\n",
              "       [0.0087219 ],\n",
              "       [0.01142838],\n",
              "       [0.00812414],\n",
              "       [0.01338669],\n",
              "       [0.00924811],\n",
              "       [0.00750213],\n",
              "       [0.00548583],\n",
              "       [0.02535952],\n",
              "       [0.00896733],\n",
              "       [0.01216664],\n",
              "       [0.00817216],\n",
              "       [0.00622227],\n",
              "       [0.00597152],\n",
              "       [0.00731198],\n",
              "       [0.00905507],\n",
              "       [0.00788989],\n",
              "       [0.01149281],\n",
              "       [0.01254796],\n",
              "       [0.01580211],\n",
              "       [0.00922212],\n",
              "       [0.00442928],\n",
              "       [0.00819164],\n",
              "       [0.01174114],\n",
              "       [0.00853518],\n",
              "       [0.0121953 ],\n",
              "       [0.00545902],\n",
              "       [0.00694017],\n",
              "       [0.00974283],\n",
              "       [0.00584452],\n",
              "       [0.00672682],\n",
              "       [0.00692675],\n",
              "       [0.01777343],\n",
              "       [0.0120385 ],\n",
              "       [0.00733928],\n",
              "       [0.01136962],\n",
              "       [0.0035028 ],\n",
              "       [0.00821388],\n",
              "       [0.00950449],\n",
              "       [0.01016648],\n",
              "       [0.01092514],\n",
              "       [0.00397007],\n",
              "       [0.00967733],\n",
              "       [0.00742042],\n",
              "       [0.01173705],\n",
              "       [0.00851113],\n",
              "       [0.00763249],\n",
              "       [0.00559451],\n",
              "       [0.00610264],\n",
              "       [0.00768583],\n",
              "       [0.0122924 ],\n",
              "       [0.01228285],\n",
              "       [0.0032508 ],\n",
              "       [0.00736069],\n",
              "       [0.00458715],\n",
              "       [0.00347123],\n",
              "       [0.00802596],\n",
              "       [0.0073575 ],\n",
              "       [0.01218985],\n",
              "       [0.01278901],\n",
              "       [0.0086706 ],\n",
              "       [0.0124458 ],\n",
              "       [0.00368109],\n",
              "       [0.00295525],\n",
              "       [0.01213173],\n",
              "       [0.01635992],\n",
              "       [0.01015306],\n",
              "       [0.00790069],\n",
              "       [0.005018  ],\n",
              "       [0.01094726],\n",
              "       [0.00549467],\n",
              "       [0.00828944],\n",
              "       [0.00785151],\n",
              "       [0.00989071],\n",
              "       [0.00957057],\n",
              "       [0.0114537 ],\n",
              "       [0.00585268],\n",
              "       [0.01745341],\n",
              "       [0.00397007],\n",
              "       [0.00573136],\n",
              "       [0.00527828],\n",
              "       [0.00908596],\n",
              "       [0.00774804],\n",
              "       [0.01132518],\n",
              "       [0.00983667],\n",
              "       [0.00376296],\n",
              "       [0.01164633],\n",
              "       [0.0096042 ],\n",
              "       [0.00667969],\n",
              "       [0.0053671 ],\n",
              "       [0.00792117],\n",
              "       [0.00652768],\n",
              "       [0.0100688 ],\n",
              "       [0.00915783],\n",
              "       [0.00931607],\n",
              "       [0.00694017],\n",
              "       [0.01079173],\n",
              "       [0.01451752],\n",
              "       [0.00384227],\n",
              "       [0.00807081],\n",
              "       [0.01366931],\n",
              "       [0.00771439],\n",
              "       [0.0031904 ],\n",
              "       [0.00961149],\n",
              "       [0.00283273],\n",
              "       [0.01013175],\n",
              "       [0.01875886],\n",
              "       [0.01001914],\n",
              "       [0.00374396],\n",
              "       [0.01092876],\n",
              "       [0.00381471],\n",
              "       [0.00758094],\n",
              "       [0.00334228],\n",
              "       [0.00566855],\n",
              "       [0.00825241],\n",
              "       [0.00718977],\n",
              "       [0.00371991],\n",
              "       [0.00597152],\n",
              "       [0.00987435],\n",
              "       [0.00546245],\n",
              "       [0.00963498]], dtype=float32)"
            ]
          },
          "metadata": {
            "tags": []
          },
          "execution_count": 169
        }
      ]
    },
    {
      "metadata": {
        "id": "thjuQhK_dWn-",
        "colab_type": "code",
        "colab": {}
      },
      "cell_type": "code",
      "source": [
        "predicted = y_pred[:,0]"
      ],
      "execution_count": 0,
      "outputs": []
    },
    {
      "metadata": {
        "id": "NB6bZbIteKVD",
        "colab_type": "code",
        "colab": {
          "base_uri": "https://localhost:8080/",
          "height": 514
        },
        "outputId": "8132a8e3-eff4-48f4-c226-7a8f0a9610ad"
      },
      "cell_type": "code",
      "source": [
        "print(predicted)"
      ],
      "execution_count": 171,
      "outputs": [
        {
          "output_type": "stream",
          "text": [
            "[0.01065764 0.00705858 0.0034373  0.00835782 0.01184279 0.0032508\n",
            " 0.00919849 0.00896665 0.00763249 0.01207199 0.00973587 0.011722\n",
            " 0.00424213 0.00861724 0.00858412 0.00361395 0.00338492 0.00424125\n",
            " 0.00773545 0.00649827 0.00368109 0.00918062 0.00953237 0.00412304\n",
            " 0.00805803 0.0070406  0.00307523 0.00897101 0.01055859 0.00721806\n",
            " 0.00465675 0.01317654 0.00431777 0.00329427 0.00924229 0.01166465\n",
            " 0.00724677 0.0100687  0.00972375 0.0122925  0.00395773 0.00347822\n",
            " 0.00691085 0.00812327 0.0087219  0.01142838 0.00812414 0.01338669\n",
            " 0.00924811 0.00750213 0.00548583 0.02535952 0.00896733 0.01216664\n",
            " 0.00817216 0.00622227 0.00597152 0.00731198 0.00905507 0.00788989\n",
            " 0.01149281 0.01254796 0.01580211 0.00922212 0.00442928 0.00819164\n",
            " 0.01174114 0.00853518 0.0121953  0.00545902 0.00694017 0.00974283\n",
            " 0.00584452 0.00672682 0.00692675 0.01777343 0.0120385  0.00733928\n",
            " 0.01136962 0.0035028  0.00821388 0.00950449 0.01016648 0.01092514\n",
            " 0.00397007 0.00967733 0.00742042 0.01173705 0.00851113 0.00763249\n",
            " 0.00559451 0.00610264 0.00768583 0.0122924  0.01228285 0.0032508\n",
            " 0.00736069 0.00458715 0.00347123 0.00802596 0.0073575  0.01218985\n",
            " 0.01278901 0.0086706  0.0124458  0.00368109 0.00295525 0.01213173\n",
            " 0.01635992 0.01015306 0.00790069 0.005018   0.01094726 0.00549467\n",
            " 0.00828944 0.00785151 0.00989071 0.00957057 0.0114537  0.00585268\n",
            " 0.01745341 0.00397007 0.00573136 0.00527828 0.00908596 0.00774804\n",
            " 0.01132518 0.00983667 0.00376296 0.01164633 0.0096042  0.00667969\n",
            " 0.0053671  0.00792117 0.00652768 0.0100688  0.00915783 0.00931607\n",
            " 0.00694017 0.01079173 0.01451752 0.00384227 0.00807081 0.01366931\n",
            " 0.00771439 0.0031904  0.00961149 0.00283273 0.01013175 0.01875886\n",
            " 0.01001914 0.00374396 0.01092876 0.00381471 0.00758094 0.00334228\n",
            " 0.00566855 0.00825241 0.00718977 0.00371991 0.00597152 0.00987435\n",
            " 0.00546245 0.00963498]\n"
          ],
          "name": "stdout"
        }
      ]
    },
    {
      "metadata": {
        "id": "D3TSLdf2eMMA",
        "colab_type": "code",
        "colab": {}
      },
      "cell_type": "code",
      "source": [
        "from sklearn.metrics import roc_curve, auc"
      ],
      "execution_count": 0,
      "outputs": []
    },
    {
      "metadata": {
        "id": "TgjVjMHSePxL",
        "colab_type": "code",
        "colab": {}
      },
      "cell_type": "code",
      "source": [
        "fpr, tpr, thresholds = roc_curve(Y_te, predicted)"
      ],
      "execution_count": 0,
      "outputs": []
    },
    {
      "metadata": {
        "id": "T0YfgeYiepuy",
        "colab_type": "code",
        "colab": {
          "base_uri": "https://localhost:8080/",
          "height": 125
        },
        "outputId": "7e3dd9a2-49c1-4970-db6c-c3881981ddc5"
      },
      "cell_type": "code",
      "source": [
        "print(fpr, tpr, thresholds)"
      ],
      "execution_count": 174,
      "outputs": [
        {
          "output_type": "stream",
          "text": [
            "[0.         0.00617284 0.31481481 0.31481481 0.58024691 0.59259259\n",
            " 0.66666667 0.67901235 0.85802469 0.86419753 0.90123457 0.91358025\n",
            " 0.96296296 0.97530864 1.        ] [0.  0.  0.  0.5 0.5 0.5 0.5 0.5 0.5 1.  1.  1.  1.  1.  1. ] [1.0253595  0.02535952 0.00972375 0.00967733 0.00768583 0.00763249\n",
            " 0.0070406  0.00694017 0.00412304 0.00397007 0.00371991 0.00368109\n",
            " 0.00329427 0.0032508  0.00283273]\n"
          ],
          "name": "stdout"
        }
      ]
    },
    {
      "metadata": {
        "id": "po3q4gTbB1hx",
        "colab_type": "code",
        "colab": {
          "base_uri": "https://localhost:8080/",
          "height": 34
        },
        "outputId": "7ee3ba81-8332-4d38-c820-8dcf2dad5175"
      },
      "cell_type": "code",
      "source": [
        "roc_auc = auc(fpr, tpr)\n",
        "print(roc_auc)"
      ],
      "execution_count": 175,
      "outputs": [
        {
          "output_type": "stream",
          "text": [
            "0.412037037037037\n"
          ],
          "name": "stdout"
        }
      ]
    },
    {
      "metadata": {
        "id": "u88XgxOmB8Aj",
        "colab_type": "code",
        "colab": {
          "base_uri": "https://localhost:8080/",
          "height": 375
        },
        "outputId": "c148f06a-4275-43cf-fa13-cbdb563896c0"
      },
      "cell_type": "code",
      "source": [
        "import matplotlib.pyplot as plt\n",
        "plt.figure()\n",
        "plt.plot(fpr, tpr, color = 'darkorange',label = 'ROC Curve (area = %0.2f)' % roc_auc)\n",
        "plt.plot([0, 1], [0, 1], color = 'navy', linestyle = '--')\n",
        "plt.xlim([0.0, 1.0])\n",
        "plt.ylim([0.0, 1.05])\n",
        "plt.xlabel(\"False Positive Rate\")\n",
        "plt.ylabel(\"True Positive Rate\")\n",
        "plt.title('Receiver Operating Characteristic')\n",
        "plt.legend(loc = \"lower right\")\n",
        "plt.show()"
      ],
      "execution_count": 176,
      "outputs": [
        {
          "output_type": "display_data",
          "data": {
            "image/png": "[encoded data removed]",
            "text/plain": [
              "<matplotlib.figure.Figure at 0x7f0209df8278>"
            ]
          },
          "metadata": {
            "tags": []
          }
        }
      ]
    },
    {
      "metadata": {
        "id": "enRK7ogpGCnH",
        "colab_type": "code",
        "colab": {
          "base_uri": "https://localhost:8080/",
          "height": 364
        },
        "outputId": "61f51209-5c05-41a4-a74e-82c047677d47"
      },
      "cell_type": "code",
      "source": [
        "plt.bar(fpr, tpr)"
      ],
      "execution_count": 177,
      "outputs": [
        {
          "output_type": "execute_result",
          "data": {
            "text/plain": [
              "<Container object of 15 artists>"
            ]
          },
          "metadata": {
            "tags": []
          },
          "execution_count": 177
        },
        {
          "output_type": "display_data",
          "data": {
            "image/png": "[encoded data removed]",
            "text/plain": [
              "<matplotlib.figure.Figure at 0x7f0209dc76a0>"
            ]
          },
          "metadata": {
            "tags": []
          }
        }
      ]
    },
    {
      "metadata": {
        "id": "p0kqhAEMNAHn",
        "colab_type": "code",
        "colab": {
          "base_uri": "https://localhost:8080/",
          "height": 34
        },
        "outputId": "da9d3ad9-2290-4112-f0b2-903909bfe828"
      },
      "cell_type": "code",
      "source": [
        "test_query = \"India is a great country\"\n",
        "test_queries = [test_query]\n",
        "test_queries"
      ],
      "execution_count": 178,
      "outputs": [
        {
          "output_type": "execute_result",
          "data": {
            "text/plain": [
              "['India is a great country']"
            ]
          },
          "metadata": {
            "tags": []
          },
          "execution_count": 178
        }
      ]
    },
    {
      "metadata": {
        "id": "I7Zg2qbWNfyg",
        "colab_type": "code",
        "colab": {
          "base_uri": "https://localhost:8080/",
          "height": 54
        },
        "outputId": "e3c2a663-623b-4d52-f906-6f6a1ec74142"
      },
      "cell_type": "code",
      "source": [
        "test_data = []\n",
        "for i in range(len(test_queries)):\n",
        "  data_dict = dict()\n",
        "  query = []\n",
        "  query.append(test_queries[i])\n",
        "  tw = Tokenizer(filters='!\"#%&()*+,-.:;<=>?@[\\]^`{|}~ ')\n",
        "  tw.fit_on_texts(query)\n",
        "  wordlist = []\n",
        "  for word, j in tw.word_index.items():\n",
        "    wordlist.append(word)\n",
        "  ents = data_list[i]\n",
        "  data_dict['query'] = test_queries[i]\n",
        "  sequences = []\n",
        "  for word in wordlist:\n",
        "    index = wordlist.index(word)\n",
        "    seq = ''\n",
        "    for w in wordlist[index:]:\n",
        "      seq = seq + w\n",
        "      sequences.append(seq)\n",
        "      seq = seq + ' '\n",
        "  data_dict['sequences'] = sequences\n",
        "  test_data.append(data_dict)\n",
        "print(test_data)"
      ],
      "execution_count": 179,
      "outputs": [
        {
          "output_type": "stream",
          "text": [
            "[{'query': 'India is a great country', 'sequences': ['india', 'india is', 'india is a', 'india is a great', 'india is a great country', 'is', 'is a', 'is a great', 'is a great country', 'a', 'a great', 'a great country', 'great', 'great country', 'country']}]\n"
          ],
          "name": "stdout"
        }
      ]
    },
    {
      "metadata": {
        "id": "hznjmrn2NjH2",
        "colab_type": "code",
        "colab": {
          "base_uri": "https://localhost:8080/",
          "height": 34
        },
        "outputId": "2c10a11e-2436-402e-d8dc-d076dd1cbc7f"
      },
      "cell_type": "code",
      "source": [
        "number_of_seq = 0\n",
        "for element in test_data:\n",
        "    number_of_seq = number_of_seq + len(element['sequences'])\n",
        "print(number_of_seq)"
      ],
      "execution_count": 181,
      "outputs": [
        {
          "output_type": "stream",
          "text": [
            "15\n"
          ],
          "name": "stdout"
        }
      ]
    },
    {
      "metadata": {
        "id": "4-uC0_KYNnY8",
        "colab_type": "code",
        "colab": {}
      },
      "cell_type": "code",
      "source": [
        "X_example = np.zeros((number_of_seq*len(entities), 50 + len(entities)))\n",
        "i = 0\n",
        "for j in range(len(test_queries)):\n",
        "  query = []\n",
        "  query.append(test_queries[j])\n",
        "  tw = Tokenizer(filters='!\"#%&()*+,-.:;<=>?@[\\]^`{|}~ ')\n",
        "  tw.fit_on_texts(query)\n",
        "  wordlist = []\n",
        "  for word, k in tw.word_index.items():\n",
        "    wordlist.append(word)\n",
        "  seq = test_data[j]\n",
        "  for sequence in seq['sequences']:\n",
        "    wl = sequence.split(' ')\n",
        "    index = wordlist.index(wl[0])\n",
        "    chunk = ''\n",
        "    for word in wordlist[:index]:\n",
        "      chunk = chunk + word\n",
        "      chunk = chunk + ' '\n",
        "    if chunk == '':\n",
        "      index = wordlist.index(wl[len(wl)-1])\n",
        "      chunk = ''\n",
        "      for word in wordlist[index+1:]:\n",
        "        chunk = chunk + word\n",
        "        chunk = chunk + ' '\n",
        "    if chunk == '':\n",
        "      chunk = None\n",
        "    slots = data_list[j]\n",
        "    slot = ''\n",
        "    for key in slots:\n",
        "      if sequence == key:\n",
        "        slot = slots[sequence]\n",
        "        break\n",
        "    if slot == '':\n",
        "      slot = None\n",
        "    mean = get_X(i, sequence, chunk)\n",
        "    \n",
        "    mean = mean.reshape(50, 1)\n",
        "    \n",
        "    rows = onehot_entities.shape[0]\n",
        "    for x in range(rows):\n",
        "      oh = onehot_entities[x].reshape(len(entities), 1)\n",
        "      conc = np.concatenate((mean, oh))\n",
        "      conc = conc.reshape(1, 50 + len(entities))\n",
        "      X_example[i] = conc\n",
        "      i += 1  "
      ],
      "execution_count": 0,
      "outputs": []
    },
    {
      "metadata": {
        "id": "dUefRvHwNsox",
        "colab_type": "code",
        "colab": {
          "base_uri": "https://localhost:8080/",
          "height": 247
        },
        "outputId": "9c8fd01f-d328-4cd3-d7e9-664642abedd7"
      },
      "cell_type": "code",
      "source": [
        "print(X_example)"
      ],
      "execution_count": 183,
      "outputs": [
        {
          "output_type": "stream",
          "text": [
            "[[-0.03193463  0.71398959  0.4153172  ...  0.          0.\n",
            "   0.        ]\n",
            " [-0.03193463  0.71398959  0.4153172  ...  0.          0.\n",
            "   0.        ]\n",
            " [-0.03193463  0.71398959  0.4153172  ...  0.          0.\n",
            "   0.        ]\n",
            " ...\n",
            " [-0.14983793  0.81940635  0.63753812 ...  1.          0.\n",
            "   0.        ]\n",
            " [-0.14983793  0.81940635  0.63753812 ...  0.          1.\n",
            "   0.        ]\n",
            " [-0.14983793  0.81940635  0.63753812 ...  0.          0.\n",
            "   1.        ]]\n"
          ],
          "name": "stdout"
        }
      ]
    },
    {
      "metadata": {
        "id": "NROCvlAcNvhK",
        "colab_type": "code",
        "colab": {
          "base_uri": "https://localhost:8080/",
          "height": 34
        },
        "outputId": "32acdd8d-3cc9-40a4-d2e4-8cd83373a63a"
      },
      "cell_type": "code",
      "source": [
        "X_example.shape"
      ],
      "execution_count": 184,
      "outputs": [
        {
          "output_type": "execute_result",
          "data": {
            "text/plain": [
              "(150, 60)"
            ]
          },
          "metadata": {
            "tags": []
          },
          "execution_count": 184
        }
      ]
    },
    {
      "metadata": {
        "id": "5UG4L_KeT6bv",
        "colab_type": "code",
        "colab": {}
      },
      "cell_type": "code",
      "source": [
        "X_example = X_example.reshape(X_example.shape[0], 1, 50 + len(entities))"
      ],
      "execution_count": 0,
      "outputs": []
    },
    {
      "metadata": {
        "id": "XbmoC5aVNzYp",
        "colab_type": "code",
        "colab": {}
      },
      "cell_type": "code",
      "source": [
        "result = model.predict(X_example)"
      ],
      "execution_count": 0,
      "outputs": []
    },
    {
      "metadata": {
        "id": "wZEvYN0JUEus",
        "colab_type": "code",
        "colab": {}
      },
      "cell_type": "code",
      "source": [
        "result = result.reshape(result.shape[0], 1)"
      ],
      "execution_count": 0,
      "outputs": []
    },
    {
      "metadata": {
        "id": "gDDt_EteN7SC",
        "colab_type": "code",
        "colab": {}
      },
      "cell_type": "code",
      "source": [
        "result = result.tolist()"
      ],
      "execution_count": 0,
      "outputs": []
    },
    {
      "metadata": {
        "id": "bBbKpKKQN_s1",
        "colab_type": "code",
        "colab": {
          "base_uri": "https://localhost:8080/",
          "height": 54
        },
        "outputId": "4c094882-a976-4660-e37e-91bad46a1f25"
      },
      "cell_type": "code",
      "source": [
        "print(result)"
      ],
      "execution_count": 189,
      "outputs": [
        {
          "output_type": "stream",
          "text": [
            "[[0.008454184979200363], [0.011567942798137665], [0.011537466198205948], [0.012191835790872574], [0.008629487827420235], [0.012026033364236355], [0.004046418704092503], [0.004016896244138479], [0.008449733257293701], [0.008900457061827183], [0.008811017498373985], [0.012064527720212936], [0.012030894868075848], [0.012602875009179115], [0.00897796731442213], [0.012407567352056503], [0.004099156241863966], [0.004088650457561016], [0.008748249150812626], [0.009187614545226097], [0.008811017498373985], [0.012064527720212936], [0.012030894868075848], [0.012602875009179115], [0.00897796731442213], [0.012407567352056503], [0.004099156241863966], [0.004088650457561016], [0.008748249150812626], [0.009187614545226097], [0.008079543709754944], [0.01103593222796917], [0.011077403090894222], [0.011530693620443344], [0.008331695571541786], [0.011524466797709465], [0.003802521387115121], [0.003830457804724574], [0.008115614764392376], [0.008540445938706398], [0.017346737906336784], [0.024592285975813866], [0.023388026282191277], [0.02558807283639908], [0.017315374687314034], [0.024381179362535477], [0.007704901974648237], [0.0076300655491650105], [0.016763964667916298], [0.016846375539898872], [0.007665457669645548], [0.010273541323840618], [0.010319821536540985], [0.011251985095441341], [0.0077547780238091946], [0.010963701643049717], [0.0038902524393051863], [0.0038798097521066666], [0.0075823962688446045], [0.007888886146247387], [0.00977469701319933], [0.01327223889529705], [0.01317787729203701], [0.014208166860044003], [0.009891845285892487], [0.0139207998290658], [0.004740653093904257], [0.00471224682405591], [0.009642578661441803], [0.009974082931876183], [0.009708366356790066], [0.013158983550965786], [0.013026663102209568], [0.013899208977818489], [0.009802094660699368], [0.013707812875509262], [0.004536747466772795], [0.004541104193776846], [0.009518132545053959], [0.010119744576513767], [0.008454184979200363], [0.011567942798137665], [0.011537466198205948], [0.012191835790872574], [0.008629487827420235], [0.012026033364236355], [0.004046418704092503], [0.004016896244138479], [0.008449733257293701], [0.008900457061827183], [0.01668594777584076], [0.022697091102600098], [0.021832913160324097], [0.023396356031298637], [0.016736995428800583], [0.022971345111727715], [0.007850658148527145], [0.007808629423379898], [0.016081552952528], [0.016593100503087044], [0.010885562747716904], [0.014749630354344845], [0.014606567099690437], [0.015462798066437244], [0.010997725650668144], [0.015147549100220203], [0.00495880888774991], [0.004910235293209553], [0.010637310333549976], [0.01120562944561243], [0.008811017498373985], [0.012064527720212936], [0.012030894868075848], [0.012602875009179115], [0.00897796731442213], [0.012407567352056503], [0.004099156241863966], [0.004088650457561016], [0.008748249150812626], [0.009187614545226097], [0.010885562747716904], [0.014749630354344845], [0.014606567099690437], [0.015462798066437244], [0.010997725650668144], [0.015147549100220203], [0.00495880888774991], [0.004910235293209553], [0.010637310333549976], [0.01120562944561243], [0.008811017498373985], [0.012064527720212936], [0.012030894868075848], [0.012602875009179115], [0.00897796731442213], [0.012407567352056503], [0.004099156241863966], [0.004088650457561016], [0.008748249150812626], [0.009187614545226097], [0.008079543709754944], [0.01103593222796917], [0.011077403090894222], [0.011530693620443344], [0.008331695571541786], [0.01152446586638689], [0.003802521387115121], [0.003830457804724574], [0.008115614764392376], [0.008540445007383823]]\n"
          ],
          "name": "stdout"
        }
      ]
    },
    {
      "metadata": {
        "id": "oCvBUy3SOJPW",
        "colab_type": "code",
        "colab": {}
      },
      "cell_type": "code",
      "source": [
        "def divide_chunks(l, n):\n",
        "  for i in range(0, len(l), n):\n",
        "    yield l[i:i + n]"
      ],
      "execution_count": 0,
      "outputs": []
    },
    {
      "metadata": {
        "id": "_Ye6f3xfOZll",
        "colab_type": "code",
        "colab": {
          "base_uri": "https://localhost:8080/",
          "height": 54
        },
        "outputId": "86dc634a-7940-43be-a04a-aa84b67c6515"
      },
      "cell_type": "code",
      "source": [
        "for element in result:\n",
        "  index = result.index(element)\n",
        "  result[index] = element[0]\n",
        "print(result)"
      ],
      "execution_count": 191,
      "outputs": [
        {
          "output_type": "stream",
          "text": [
            "[0.008454184979200363, 0.011567942798137665, 0.011537466198205948, 0.012191835790872574, 0.008629487827420235, 0.012026033364236355, 0.004046418704092503, 0.004016896244138479, 0.008449733257293701, 0.008900457061827183, 0.008811017498373985, 0.012064527720212936, 0.012030894868075848, 0.012602875009179115, 0.00897796731442213, 0.012407567352056503, 0.004099156241863966, 0.004088650457561016, 0.008748249150812626, 0.009187614545226097, 0.008811017498373985, 0.012064527720212936, 0.012030894868075848, 0.012602875009179115, 0.00897796731442213, 0.012407567352056503, 0.004099156241863966, 0.004088650457561016, 0.008748249150812626, 0.009187614545226097, 0.008079543709754944, 0.01103593222796917, 0.011077403090894222, 0.011530693620443344, 0.008331695571541786, 0.011524466797709465, 0.003802521387115121, 0.003830457804724574, 0.008115614764392376, 0.008540445938706398, 0.017346737906336784, 0.024592285975813866, 0.023388026282191277, 0.02558807283639908, 0.017315374687314034, 0.024381179362535477, 0.007704901974648237, 0.0076300655491650105, 0.016763964667916298, 0.016846375539898872, 0.007665457669645548, 0.010273541323840618, 0.010319821536540985, 0.011251985095441341, 0.0077547780238091946, 0.010963701643049717, 0.0038902524393051863, 0.0038798097521066666, 0.0075823962688446045, 0.007888886146247387, 0.00977469701319933, 0.01327223889529705, 0.01317787729203701, 0.014208166860044003, 0.009891845285892487, 0.0139207998290658, 0.004740653093904257, 0.00471224682405591, 0.009642578661441803, 0.009974082931876183, 0.009708366356790066, 0.013158983550965786, 0.013026663102209568, 0.013899208977818489, 0.009802094660699368, 0.013707812875509262, 0.004536747466772795, 0.004541104193776846, 0.009518132545053959, 0.010119744576513767, 0.008454184979200363, 0.011567942798137665, 0.011537466198205948, 0.012191835790872574, 0.008629487827420235, 0.012026033364236355, 0.004046418704092503, 0.004016896244138479, 0.008449733257293701, 0.008900457061827183, 0.01668594777584076, 0.022697091102600098, 0.021832913160324097, 0.023396356031298637, 0.016736995428800583, 0.022971345111727715, 0.007850658148527145, 0.007808629423379898, 0.016081552952528, 0.016593100503087044, 0.010885562747716904, 0.014749630354344845, 0.014606567099690437, 0.015462798066437244, 0.010997725650668144, 0.015147549100220203, 0.00495880888774991, 0.004910235293209553, 0.010637310333549976, 0.01120562944561243, 0.008811017498373985, 0.012064527720212936, 0.012030894868075848, 0.012602875009179115, 0.00897796731442213, 0.012407567352056503, 0.004099156241863966, 0.004088650457561016, 0.008748249150812626, 0.009187614545226097, 0.010885562747716904, 0.014749630354344845, 0.014606567099690437, 0.015462798066437244, 0.010997725650668144, 0.015147549100220203, 0.00495880888774991, 0.004910235293209553, 0.010637310333549976, 0.01120562944561243, 0.008811017498373985, 0.012064527720212936, 0.012030894868075848, 0.012602875009179115, 0.00897796731442213, 0.012407567352056503, 0.004099156241863966, 0.004088650457561016, 0.008748249150812626, 0.009187614545226097, 0.008079543709754944, 0.01103593222796917, 0.011077403090894222, 0.011530693620443344, 0.008331695571541786, 0.01152446586638689, 0.003802521387115121, 0.003830457804724574, 0.008115614764392376, 0.008540445007383823]\n"
          ],
          "name": "stdout"
        }
      ]
    },
    {
      "metadata": {
        "id": "6DnQGCaYORXy",
        "colab_type": "code",
        "colab": {
          "base_uri": "https://localhost:8080/",
          "height": 54
        },
        "outputId": "6c029824-8c77-49f0-deb9-de76b23f849e"
      },
      "cell_type": "code",
      "source": [
        "result_list = list(divide_chunks(result, len(entities)))\n",
        "print(result_list)"
      ],
      "execution_count": 192,
      "outputs": [
        {
          "output_type": "stream",
          "text": [
            "[[0.008454184979200363, 0.011567942798137665, 0.011537466198205948, 0.012191835790872574, 0.008629487827420235, 0.012026033364236355, 0.004046418704092503, 0.004016896244138479, 0.008449733257293701, 0.008900457061827183], [0.008811017498373985, 0.012064527720212936, 0.012030894868075848, 0.012602875009179115, 0.00897796731442213, 0.012407567352056503, 0.004099156241863966, 0.004088650457561016, 0.008748249150812626, 0.009187614545226097], [0.008811017498373985, 0.012064527720212936, 0.012030894868075848, 0.012602875009179115, 0.00897796731442213, 0.012407567352056503, 0.004099156241863966, 0.004088650457561016, 0.008748249150812626, 0.009187614545226097], [0.008079543709754944, 0.01103593222796917, 0.011077403090894222, 0.011530693620443344, 0.008331695571541786, 0.011524466797709465, 0.003802521387115121, 0.003830457804724574, 0.008115614764392376, 0.008540445938706398], [0.017346737906336784, 0.024592285975813866, 0.023388026282191277, 0.02558807283639908, 0.017315374687314034, 0.024381179362535477, 0.007704901974648237, 0.0076300655491650105, 0.016763964667916298, 0.016846375539898872], [0.007665457669645548, 0.010273541323840618, 0.010319821536540985, 0.011251985095441341, 0.0077547780238091946, 0.010963701643049717, 0.0038902524393051863, 0.0038798097521066666, 0.0075823962688446045, 0.007888886146247387], [0.00977469701319933, 0.01327223889529705, 0.01317787729203701, 0.014208166860044003, 0.009891845285892487, 0.0139207998290658, 0.004740653093904257, 0.00471224682405591, 0.009642578661441803, 0.009974082931876183], [0.009708366356790066, 0.013158983550965786, 0.013026663102209568, 0.013899208977818489, 0.009802094660699368, 0.013707812875509262, 0.004536747466772795, 0.004541104193776846, 0.009518132545053959, 0.010119744576513767], [0.008454184979200363, 0.011567942798137665, 0.011537466198205948, 0.012191835790872574, 0.008629487827420235, 0.012026033364236355, 0.004046418704092503, 0.004016896244138479, 0.008449733257293701, 0.008900457061827183], [0.01668594777584076, 0.022697091102600098, 0.021832913160324097, 0.023396356031298637, 0.016736995428800583, 0.022971345111727715, 0.007850658148527145, 0.007808629423379898, 0.016081552952528, 0.016593100503087044], [0.010885562747716904, 0.014749630354344845, 0.014606567099690437, 0.015462798066437244, 0.010997725650668144, 0.015147549100220203, 0.00495880888774991, 0.004910235293209553, 0.010637310333549976, 0.01120562944561243], [0.008811017498373985, 0.012064527720212936, 0.012030894868075848, 0.012602875009179115, 0.00897796731442213, 0.012407567352056503, 0.004099156241863966, 0.004088650457561016, 0.008748249150812626, 0.009187614545226097], [0.010885562747716904, 0.014749630354344845, 0.014606567099690437, 0.015462798066437244, 0.010997725650668144, 0.015147549100220203, 0.00495880888774991, 0.004910235293209553, 0.010637310333549976, 0.01120562944561243], [0.008811017498373985, 0.012064527720212936, 0.012030894868075848, 0.012602875009179115, 0.00897796731442213, 0.012407567352056503, 0.004099156241863966, 0.004088650457561016, 0.008748249150812626, 0.009187614545226097], [0.008079543709754944, 0.01103593222796917, 0.011077403090894222, 0.011530693620443344, 0.008331695571541786, 0.01152446586638689, 0.003802521387115121, 0.003830457804724574, 0.008115614764392376, 0.008540445007383823]]\n"
          ],
          "name": "stdout"
        }
      ]
    },
    {
      "metadata": {
        "id": "0-PV_1_zPD2I",
        "colab_type": "code",
        "colab": {
          "base_uri": "https://localhost:8080/",
          "height": 54
        },
        "outputId": "0c6a7362-8292-4144-b611-af8058a9cf6e"
      },
      "cell_type": "code",
      "source": [
        "sequences = test_data[0]['sequences']\n",
        "print(sequences)"
      ],
      "execution_count": 193,
      "outputs": [
        {
          "output_type": "stream",
          "text": [
            "['india', 'india is', 'india is a', 'india is a great', 'india is a great country', 'is', 'is a', 'is a great', 'is a great country', 'a', 'a great', 'a great country', 'great', 'great country', 'country']\n"
          ],
          "name": "stdout"
        }
      ]
    },
    {
      "metadata": {
        "id": "W35rvLwJPJQX",
        "colab_type": "code",
        "colab": {
          "base_uri": "https://localhost:8080/",
          "height": 1103
        },
        "outputId": "178c32d1-b83d-4f4b-fffb-a83f122baa95"
      },
      "cell_type": "code",
      "source": [
        "for i in range(len(sequences)):\n",
        "  prob_list = result_list[i]\n",
        "  ranked = sorted(prob_list, reverse = True)\n",
        "  rank_dict = dict()\n",
        "  for e in ranked:\n",
        "    index = prob_list.index(e)\n",
        "    rank_dict[entities[index]] = e\n",
        "  print(\"Sequence: \", sequences[i])\n",
        "  print(\"Rank: \", rank_dict)\n",
        "  print('\\n')"
      ],
      "execution_count": 194,
      "outputs": [
        {
          "output_type": "stream",
          "text": [
            "Sequence:  india\n",
            "Rank:  {'country': 0.012191835790872574, 'name': 0.012026033364236355, 'car_type': 0.011567942798137665, 'company': 0.011537466198205948, 'renewal': 0.008900457061827183, 'document_type': 0.008629487827420235, 'amount': 0.008454184979200363, 'place': 0.008449733257293701, 'payment': 0.004046418704092503, 'person': 0.004016896244138479}\n",
            "\n",
            "\n",
            "Sequence:  india is\n",
            "Rank:  {'country': 0.012602875009179115, 'name': 0.012407567352056503, 'car_type': 0.012064527720212936, 'company': 0.012030894868075848, 'renewal': 0.009187614545226097, 'document_type': 0.00897796731442213, 'amount': 0.008811017498373985, 'place': 0.008748249150812626, 'payment': 0.004099156241863966, 'person': 0.004088650457561016}\n",
            "\n",
            "\n",
            "Sequence:  india is a\n",
            "Rank:  {'country': 0.012602875009179115, 'name': 0.012407567352056503, 'car_type': 0.012064527720212936, 'company': 0.012030894868075848, 'renewal': 0.009187614545226097, 'document_type': 0.00897796731442213, 'amount': 0.008811017498373985, 'place': 0.008748249150812626, 'payment': 0.004099156241863966, 'person': 0.004088650457561016}\n",
            "\n",
            "\n",
            "Sequence:  india is a great\n",
            "Rank:  {'country': 0.011530693620443344, 'name': 0.011524466797709465, 'company': 0.011077403090894222, 'car_type': 0.01103593222796917, 'renewal': 0.008540445938706398, 'document_type': 0.008331695571541786, 'place': 0.008115614764392376, 'amount': 0.008079543709754944, 'person': 0.003830457804724574, 'payment': 0.003802521387115121}\n",
            "\n",
            "\n",
            "Sequence:  india is a great country\n",
            "Rank:  {'country': 0.02558807283639908, 'car_type': 0.024592285975813866, 'name': 0.024381179362535477, 'company': 0.023388026282191277, 'amount': 0.017346737906336784, 'document_type': 0.017315374687314034, 'renewal': 0.016846375539898872, 'place': 0.016763964667916298, 'payment': 0.007704901974648237, 'person': 0.0076300655491650105}\n",
            "\n",
            "\n",
            "Sequence:  is\n",
            "Rank:  {'country': 0.011251985095441341, 'name': 0.010963701643049717, 'company': 0.010319821536540985, 'car_type': 0.010273541323840618, 'renewal': 0.007888886146247387, 'document_type': 0.0077547780238091946, 'amount': 0.007665457669645548, 'place': 0.0075823962688446045, 'payment': 0.0038902524393051863, 'person': 0.0038798097521066666}\n",
            "\n",
            "\n",
            "Sequence:  is a\n",
            "Rank:  {'country': 0.014208166860044003, 'name': 0.0139207998290658, 'car_type': 0.01327223889529705, 'company': 0.01317787729203701, 'renewal': 0.009974082931876183, 'document_type': 0.009891845285892487, 'amount': 0.00977469701319933, 'place': 0.009642578661441803, 'payment': 0.004740653093904257, 'person': 0.00471224682405591}\n",
            "\n",
            "\n",
            "Sequence:  is a great\n",
            "Rank:  {'country': 0.013899208977818489, 'name': 0.013707812875509262, 'car_type': 0.013158983550965786, 'company': 0.013026663102209568, 'renewal': 0.010119744576513767, 'document_type': 0.009802094660699368, 'amount': 0.009708366356790066, 'place': 0.009518132545053959, 'person': 0.004541104193776846, 'payment': 0.004536747466772795}\n",
            "\n",
            "\n",
            "Sequence:  is a great country\n",
            "Rank:  {'country': 0.012191835790872574, 'name': 0.012026033364236355, 'car_type': 0.011567942798137665, 'company': 0.011537466198205948, 'renewal': 0.008900457061827183, 'document_type': 0.008629487827420235, 'amount': 0.008454184979200363, 'place': 0.008449733257293701, 'payment': 0.004046418704092503, 'person': 0.004016896244138479}\n",
            "\n",
            "\n",
            "Sequence:  a\n",
            "Rank:  {'country': 0.023396356031298637, 'name': 0.022971345111727715, 'car_type': 0.022697091102600098, 'company': 0.021832913160324097, 'document_type': 0.016736995428800583, 'amount': 0.01668594777584076, 'renewal': 0.016593100503087044, 'place': 0.016081552952528, 'payment': 0.007850658148527145, 'person': 0.007808629423379898}\n",
            "\n",
            "\n",
            "Sequence:  a great\n",
            "Rank:  {'country': 0.015462798066437244, 'name': 0.015147549100220203, 'car_type': 0.014749630354344845, 'company': 0.014606567099690437, 'renewal': 0.01120562944561243, 'document_type': 0.010997725650668144, 'amount': 0.010885562747716904, 'place': 0.010637310333549976, 'payment': 0.00495880888774991, 'person': 0.004910235293209553}\n",
            "\n",
            "\n",
            "Sequence:  a great country\n",
            "Rank:  {'country': 0.012602875009179115, 'name': 0.012407567352056503, 'car_type': 0.012064527720212936, 'company': 0.012030894868075848, 'renewal': 0.009187614545226097, 'document_type': 0.00897796731442213, 'amount': 0.008811017498373985, 'place': 0.008748249150812626, 'payment': 0.004099156241863966, 'person': 0.004088650457561016}\n",
            "\n",
            "\n",
            "Sequence:  great\n",
            "Rank:  {'country': 0.015462798066437244, 'name': 0.015147549100220203, 'car_type': 0.014749630354344845, 'company': 0.014606567099690437, 'renewal': 0.01120562944561243, 'document_type': 0.010997725650668144, 'amount': 0.010885562747716904, 'place': 0.010637310333549976, 'payment': 0.00495880888774991, 'person': 0.004910235293209553}\n",
            "\n",
            "\n",
            "Sequence:  great country\n",
            "Rank:  {'country': 0.012602875009179115, 'name': 0.012407567352056503, 'car_type': 0.012064527720212936, 'company': 0.012030894868075848, 'renewal': 0.009187614545226097, 'document_type': 0.00897796731442213, 'amount': 0.008811017498373985, 'place': 0.008748249150812626, 'payment': 0.004099156241863966, 'person': 0.004088650457561016}\n",
            "\n",
            "\n",
            "Sequence:  country\n",
            "Rank:  {'country': 0.011530693620443344, 'name': 0.01152446586638689, 'company': 0.011077403090894222, 'car_type': 0.01103593222796917, 'renewal': 0.008540445007383823, 'document_type': 0.008331695571541786, 'place': 0.008115614764392376, 'amount': 0.008079543709754944, 'person': 0.003830457804724574, 'payment': 0.003802521387115121}\n",
            "\n",
            "\n"
          ],
          "name": "stdout"
        }
      ]
    },
    {
      "metadata": {
        "id": "FCDP15vDPYrN",
        "colab_type": "code",
        "colab": {}
      },
      "cell_type": "code",
      "source": [
        ""
      ],
      "execution_count": 0,
      "outputs": []
    }
  ]
}